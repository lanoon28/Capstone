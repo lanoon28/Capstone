{
 "cells": [
  {
   "cell_type": "code",
   "execution_count": 1,
   "id": "1a8c8e48",
   "metadata": {},
   "outputs": [],
   "source": [
    "import pandas as pd\n",
    "import re\n",
    "import warnings\n",
    "warnings.filterwarnings(action = 'ignore')\n",
    "import joblib"
   ]
  },
  {
   "cell_type": "code",
   "execution_count": 2,
   "id": "8199a670",
   "metadata": {
    "scrolled": true
   },
   "outputs": [],
   "source": [
    "from sklearn.model_selection import train_test_split\n",
    "from sklearn.feature_extraction.text import TfidfVectorizer # TF-IDF 벡터화\n",
    "from sklearn.linear_model import LogisticRegression # 이진분류 알고리즘\n",
    "from sklearn.model_selection import GridSearchCV # 하이퍼 파라미터 최적화?\n",
    "from konlpy.tag import Okt # 형태소 분석기\n",
    "import time"
   ]
  },
  {
   "cell_type": "code",
   "execution_count": 3,
   "id": "dd6768e6",
   "metadata": {},
   "outputs": [],
   "source": [
    "start_time = time.time()\n",
    "okt = Okt()"
   ]
  },
  {
   "cell_type": "code",
   "execution_count": 4,
   "id": "2ef5f23f",
   "metadata": {},
   "outputs": [],
   "source": [
    "# Read excel\n",
    "train_df = pd.read_excel('5movies.xlsx')"
   ]
  },
  {
   "cell_type": "code",
   "execution_count": 5,
   "id": "6b04831d",
   "metadata": {},
   "outputs": [],
   "source": [
    "# 결측값 처리\n",
    "train_df = train_df[train_df['text'].notnull()]\n",
    "\n",
    "train_df['text'] = train_df['text'].apply(lambda x:\n",
    "                                         re.sub(r'[^ ㄱ-ㅣ 가-힣] + ', \" \", x))"
   ]
  },
  {
   "cell_type": "code",
   "execution_count": 6,
   "id": "dbebd322",
   "metadata": {},
   "outputs": [],
   "source": [
    "text = train_df['text']\n",
    "score = train_df['score']"
   ]
  },
  {
   "cell_type": "code",
   "execution_count": 7,
   "id": "7c69e42c",
   "metadata": {},
   "outputs": [],
   "source": [
    "# Train / Test 분리\n",
    "train_x, test_x, train_y, test_y = train_test_split(text, score , \n",
    "                                                    test_size=0.9, random_state=0)"
   ]
  },
  {
   "cell_type": "code",
   "execution_count": 8,
   "id": "b17c0fcf",
   "metadata": {},
   "outputs": [],
   "source": [
    "tfv = TfidfVectorizer(tokenizer=okt.morphs, ngram_range=(1,2), min_df=3, max_df=0.9)\n",
    "tfv.fit(train_x)\n",
    "tfv_train_x = tfv.transform(train_x)"
   ]
  },
  {
   "cell_type": "code",
   "execution_count": 9,
   "id": "5f4614e6",
   "metadata": {},
   "outputs": [
    {
     "name": "stdout",
     "output_type": "stream",
     "text": [
      "Fitting 3 folds for each of 5 candidates, totalling 15 fits\n"
     ]
    },
    {
     "data": {
      "text/plain": [
       "GridSearchCV(cv=3, estimator=LogisticRegression(random_state=0),\n",
       "             param_grid={'C': [15, 18, 19, 20, 22]}, scoring='accuracy',\n",
       "             verbose=1)"
      ]
     },
     "execution_count": 9,
     "metadata": {},
     "output_type": "execute_result"
    }
   ],
   "source": [
    "clf = LogisticRegression(random_state=0)\n",
    "params = {'C': [15, 18, 19, 20, 22]}\n",
    "grid_cv = GridSearchCV(clf, param_grid=params, cv=3, scoring='accuracy', verbose=1)\n",
    "grid_cv.fit(tfv_train_x, train_y)"
   ]
  },
  {
   "cell_type": "code",
   "execution_count": 10,
   "id": "dbcfd886",
   "metadata": {},
   "outputs": [],
   "source": [
    "tfv_test_x = tfv.transform(test_x)\n",
    "# test_predict = grid_cv.best_estimator_.score(tfv_test_x,test_y)\n",
    "test_predict = grid_cv.best_estimator_.predict(tfv_test_x)"
   ]
  },
  {
   "cell_type": "code",
   "execution_count": 11,
   "id": "fee73861",
   "metadata": {},
   "outputs": [],
   "source": [
    "test_input = pd.read_excel('44.xlsx')"
   ]
  },
  {
   "cell_type": "code",
   "execution_count": 12,
   "id": "9434e7aa",
   "metadata": {},
   "outputs": [],
   "source": [
    "test_df = test_input[test_input['Comment'].notnull()]\n",
    "test_df['Comment'] = test_df['Comment'].apply(lambda x: \n",
    "                                        re.sub(r'[^ ㄱ-ㅣ 가-힣] + ', \" \", x))"
   ]
  },
  {
   "cell_type": "code",
   "execution_count": 13,
   "id": "ae93eccd",
   "metadata": {},
   "outputs": [],
   "source": [
    "text_r = test_df['Comment']\n",
    "test = tfv.transform(text_r)"
   ]
  },
  {
   "cell_type": "code",
   "execution_count": 14,
   "id": "4a261d3c",
   "metadata": {},
   "outputs": [],
   "source": [
    "ts_predict = grid_cv.best_estimator_.predict(test)"
   ]
  },
  {
   "cell_type": "code",
   "execution_count": 15,
   "id": "9fefc2ba",
   "metadata": {},
   "outputs": [],
   "source": [
    "react_df = pd.DataFrame(columns=['idx', 'react'])"
   ]
  },
  {
   "cell_type": "code",
   "execution_count": 16,
   "id": "6b5edf00",
   "metadata": {},
   "outputs": [],
   "source": [
    "for i in range(len(ts_predict)):\n",
    "    if(ts_predict[i] == 0):\n",
    "        react = '부정'\n",
    "    else:\n",
    "        react = '긍정'\n",
    "    \n",
    "    react_df = react_df.append(pd.DataFrame([[i, react]], columns=['idx', 'react']),\n",
    "                   ignore_index=True)\n",
    "\n",
    "# end_time = time.time()\n",
    "# print(end_time - start_time)"
   ]
  },
  {
   "cell_type": "code",
   "execution_count": 17,
   "id": "88eae134",
   "metadata": {},
   "outputs": [],
   "source": [
    "read_df = pd.read_excel('44.xlsx')"
   ]
  },
  {
   "cell_type": "code",
   "execution_count": 18,
   "id": "b6c187e1",
   "metadata": {},
   "outputs": [],
   "source": [
    "read_df = read_df.merge(react_df, how = 'left', \n",
    "                        left_on = 'Idx', right_on = 'idx')"
   ]
  },
  {
   "cell_type": "code",
   "execution_count": 19,
   "id": "6b8f243b",
   "metadata": {},
   "outputs": [],
   "source": [
    "columns = ['ID', 'Comment', 'react']"
   ]
  },
  {
   "cell_type": "code",
   "execution_count": 20,
   "id": "17999a2c",
   "metadata": {},
   "outputs": [],
   "source": [
    "df = read_df[columns]"
   ]
  },
  {
   "cell_type": "code",
   "execution_count": 21,
   "id": "086cc887",
   "metadata": {},
   "outputs": [
    {
     "data": {
      "text/html": [
       "<div>\n",
       "<style scoped>\n",
       "    .dataframe tbody tr th:only-of-type {\n",
       "        vertical-align: middle;\n",
       "    }\n",
       "\n",
       "    .dataframe tbody tr th {\n",
       "        vertical-align: top;\n",
       "    }\n",
       "\n",
       "    .dataframe thead th {\n",
       "        text-align: right;\n",
       "    }\n",
       "</style>\n",
       "<table border=\"1\" class=\"dataframe\">\n",
       "  <thead>\n",
       "    <tr style=\"text-align: right;\">\n",
       "      <th></th>\n",
       "      <th>ID</th>\n",
       "      <th>Comment</th>\n",
       "      <th>react</th>\n",
       "    </tr>\n",
       "  </thead>\n",
       "  <tbody>\n",
       "    <tr>\n",
       "      <th>0</th>\n",
       "      <td>삼성</td>\n",
       "      <td>\"내 손과 다리가 부러져도 그 고통은 이길 수 있사오나, 나라를 잃어버린 그 고통만...</td>\n",
       "      <td>긍정</td>\n",
       "    </tr>\n",
       "    <tr>\n",
       "      <th>1</th>\n",
       "      <td>ksns ssj</td>\n",
       "      <td>지금 팬분들이 해야할건돌아와, 기다릴게, 힘내이런 말이 아니라형은 분명히 잘못했고 ...</td>\n",
       "      <td>긍정</td>\n",
       "    </tr>\n",
       "    <tr>\n",
       "      <th>2</th>\n",
       "      <td>도웨이</td>\n",
       "      <td>\"내 손톱이 빠져나가고 내 귀와 코가 잘리고 손과 다리가 부러져도그 고통은 이길 수...</td>\n",
       "      <td>긍정</td>\n",
       "    </tr>\n",
       "    <tr>\n",
       "      <th>3</th>\n",
       "      <td>뿌슝빠슝</td>\n",
       "      <td>식민지 역사를 가진 나라에서 그 따위 언행을 하고 대중 상대로 장사하는 BJ가 활동...</td>\n",
       "      <td>긍정</td>\n",
       "    </tr>\n",
       "    <tr>\n",
       "      <th>4</th>\n",
       "      <td>L IM</td>\n",
       "      <td>평소에 무슨 생각을 하시는지 알 수 있는 계기가 되었습니다. 사람은 바뀌지 않습니다.</td>\n",
       "      <td>긍정</td>\n",
       "    </tr>\n",
       "    <tr>\n",
       "      <th>...</th>\n",
       "      <td>...</td>\n",
       "      <td>...</td>\n",
       "      <td>...</td>\n",
       "    </tr>\n",
       "    <tr>\n",
       "      <th>2575</th>\n",
       "      <td>이진행</td>\n",
       "      <td>멀리안간다 잘가라..잘가라는무슨 ㄲㅈ</td>\n",
       "      <td>부정</td>\n",
       "    </tr>\n",
       "    <tr>\n",
       "      <th>2576</th>\n",
       "      <td>ty k</td>\n",
       "      <td>이듣보는 누구냐 ㅋㅋㅋ</td>\n",
       "      <td>긍정</td>\n",
       "    </tr>\n",
       "    <tr>\n",
       "      <th>2577</th>\n",
       "      <td>류다</td>\n",
       "      <td>니가 사람이냐</td>\n",
       "      <td>긍정</td>\n",
       "    </tr>\n",
       "    <tr>\n",
       "      <th>2578</th>\n",
       "      <td>S ong</td>\n",
       "      <td>끄지라</td>\n",
       "      <td>긍정</td>\n",
       "    </tr>\n",
       "    <tr>\n",
       "      <th>2579</th>\n",
       "      <td>셔먼</td>\n",
       "      <td>이 듣보잡은 뭔데 또</td>\n",
       "      <td>긍정</td>\n",
       "    </tr>\n",
       "  </tbody>\n",
       "</table>\n",
       "<p>2580 rows × 3 columns</p>\n",
       "</div>"
      ],
      "text/plain": [
       "              ID                                            Comment react\n",
       "0             삼성  \"내 손과 다리가 부러져도 그 고통은 이길 수 있사오나, 나라를 잃어버린 그 고통만...    긍정\n",
       "1       ksns ssj  지금 팬분들이 해야할건돌아와, 기다릴게, 힘내이런 말이 아니라형은 분명히 잘못했고 ...    긍정\n",
       "2            도웨이  \"내 손톱이 빠져나가고 내 귀와 코가 잘리고 손과 다리가 부러져도그 고통은 이길 수...    긍정\n",
       "3           뿌슝빠슝  식민지 역사를 가진 나라에서 그 따위 언행을 하고 대중 상대로 장사하는 BJ가 활동...    긍정\n",
       "4           L IM    평소에 무슨 생각을 하시는지 알 수 있는 계기가 되었습니다. 사람은 바뀌지 않습니다.    긍정\n",
       "...          ...                                                ...   ...\n",
       "2575         이진행                               멀리안간다 잘가라..잘가라는무슨 ㄲㅈ    부정\n",
       "2576        ty k                                       이듣보는 누구냐 ㅋㅋㅋ    긍정\n",
       "2577          류다                                            니가 사람이냐    긍정\n",
       "2578       S ong                                                끄지라    긍정\n",
       "2579          셔먼                                        이 듣보잡은 뭔데 또    긍정\n",
       "\n",
       "[2580 rows x 3 columns]"
      ]
     },
     "execution_count": 21,
     "metadata": {},
     "output_type": "execute_result"
    }
   ],
   "source": [
    "df"
   ]
  },
  {
   "cell_type": "code",
   "execution_count": 22,
   "id": "82504ab6",
   "metadata": {},
   "outputs": [],
   "source": [
    "df.to_excel('total.xlsx')"
   ]
  },
  {
   "cell_type": "code",
   "execution_count": 23,
   "id": "e3a30103",
   "metadata": {},
   "outputs": [],
   "source": [
    "positive = df[df['react'] == '긍정']"
   ]
  },
  {
   "cell_type": "code",
   "execution_count": 24,
   "id": "40e36a22",
   "metadata": {},
   "outputs": [
    {
     "data": {
      "text/html": [
       "<div>\n",
       "<style scoped>\n",
       "    .dataframe tbody tr th:only-of-type {\n",
       "        vertical-align: middle;\n",
       "    }\n",
       "\n",
       "    .dataframe tbody tr th {\n",
       "        vertical-align: top;\n",
       "    }\n",
       "\n",
       "    .dataframe thead th {\n",
       "        text-align: right;\n",
       "    }\n",
       "</style>\n",
       "<table border=\"1\" class=\"dataframe\">\n",
       "  <thead>\n",
       "    <tr style=\"text-align: right;\">\n",
       "      <th></th>\n",
       "      <th>ID</th>\n",
       "      <th>Comment</th>\n",
       "      <th>react</th>\n",
       "    </tr>\n",
       "  </thead>\n",
       "  <tbody>\n",
       "    <tr>\n",
       "      <th>0</th>\n",
       "      <td>삼성</td>\n",
       "      <td>\"내 손과 다리가 부러져도 그 고통은 이길 수 있사오나, 나라를 잃어버린 그 고통만...</td>\n",
       "      <td>긍정</td>\n",
       "    </tr>\n",
       "    <tr>\n",
       "      <th>1</th>\n",
       "      <td>ksns ssj</td>\n",
       "      <td>지금 팬분들이 해야할건돌아와, 기다릴게, 힘내이런 말이 아니라형은 분명히 잘못했고 ...</td>\n",
       "      <td>긍정</td>\n",
       "    </tr>\n",
       "    <tr>\n",
       "      <th>2</th>\n",
       "      <td>도웨이</td>\n",
       "      <td>\"내 손톱이 빠져나가고 내 귀와 코가 잘리고 손과 다리가 부러져도그 고통은 이길 수...</td>\n",
       "      <td>긍정</td>\n",
       "    </tr>\n",
       "    <tr>\n",
       "      <th>3</th>\n",
       "      <td>뿌슝빠슝</td>\n",
       "      <td>식민지 역사를 가진 나라에서 그 따위 언행을 하고 대중 상대로 장사하는 BJ가 활동...</td>\n",
       "      <td>긍정</td>\n",
       "    </tr>\n",
       "    <tr>\n",
       "      <th>4</th>\n",
       "      <td>L IM</td>\n",
       "      <td>평소에 무슨 생각을 하시는지 알 수 있는 계기가 되었습니다. 사람은 바뀌지 않습니다.</td>\n",
       "      <td>긍정</td>\n",
       "    </tr>\n",
       "    <tr>\n",
       "      <th>...</th>\n",
       "      <td>...</td>\n",
       "      <td>...</td>\n",
       "      <td>...</td>\n",
       "    </tr>\n",
       "    <tr>\n",
       "      <th>2573</th>\n",
       "      <td>굳굳굳</td>\n",
       "      <td>역겹습니다  유투브 자체를 없애주세요 제발 당신이야기 여기저기 나오는거 정말 역겹습니다</td>\n",
       "      <td>긍정</td>\n",
       "    </tr>\n",
       "    <tr>\n",
       "      <th>2576</th>\n",
       "      <td>ty k</td>\n",
       "      <td>이듣보는 누구냐 ㅋㅋㅋ</td>\n",
       "      <td>긍정</td>\n",
       "    </tr>\n",
       "    <tr>\n",
       "      <th>2577</th>\n",
       "      <td>류다</td>\n",
       "      <td>니가 사람이냐</td>\n",
       "      <td>긍정</td>\n",
       "    </tr>\n",
       "    <tr>\n",
       "      <th>2578</th>\n",
       "      <td>S ong</td>\n",
       "      <td>끄지라</td>\n",
       "      <td>긍정</td>\n",
       "    </tr>\n",
       "    <tr>\n",
       "      <th>2579</th>\n",
       "      <td>셔먼</td>\n",
       "      <td>이 듣보잡은 뭔데 또</td>\n",
       "      <td>긍정</td>\n",
       "    </tr>\n",
       "  </tbody>\n",
       "</table>\n",
       "<p>2123 rows × 3 columns</p>\n",
       "</div>"
      ],
      "text/plain": [
       "              ID                                            Comment react\n",
       "0             삼성  \"내 손과 다리가 부러져도 그 고통은 이길 수 있사오나, 나라를 잃어버린 그 고통만...    긍정\n",
       "1       ksns ssj  지금 팬분들이 해야할건돌아와, 기다릴게, 힘내이런 말이 아니라형은 분명히 잘못했고 ...    긍정\n",
       "2            도웨이  \"내 손톱이 빠져나가고 내 귀와 코가 잘리고 손과 다리가 부러져도그 고통은 이길 수...    긍정\n",
       "3           뿌슝빠슝  식민지 역사를 가진 나라에서 그 따위 언행을 하고 대중 상대로 장사하는 BJ가 활동...    긍정\n",
       "4           L IM    평소에 무슨 생각을 하시는지 알 수 있는 계기가 되었습니다. 사람은 바뀌지 않습니다.    긍정\n",
       "...          ...                                                ...   ...\n",
       "2573         굳굳굳   역겹습니다  유투브 자체를 없애주세요 제발 당신이야기 여기저기 나오는거 정말 역겹습니다    긍정\n",
       "2576        ty k                                       이듣보는 누구냐 ㅋㅋㅋ    긍정\n",
       "2577          류다                                            니가 사람이냐    긍정\n",
       "2578       S ong                                                끄지라    긍정\n",
       "2579          셔먼                                        이 듣보잡은 뭔데 또    긍정\n",
       "\n",
       "[2123 rows x 3 columns]"
      ]
     },
     "execution_count": 24,
     "metadata": {},
     "output_type": "execute_result"
    }
   ],
   "source": [
    "positive"
   ]
  },
  {
   "cell_type": "code",
   "execution_count": 25,
   "id": "210e9a4e",
   "metadata": {},
   "outputs": [],
   "source": [
    "negative = df[df['react'] == '부정']"
   ]
  },
  {
   "cell_type": "code",
   "execution_count": 26,
   "id": "13ed26b1",
   "metadata": {},
   "outputs": [
    {
     "data": {
      "text/html": [
       "<div>\n",
       "<style scoped>\n",
       "    .dataframe tbody tr th:only-of-type {\n",
       "        vertical-align: middle;\n",
       "    }\n",
       "\n",
       "    .dataframe tbody tr th {\n",
       "        vertical-align: top;\n",
       "    }\n",
       "\n",
       "    .dataframe thead th {\n",
       "        text-align: right;\n",
       "    }\n",
       "</style>\n",
       "<table border=\"1\" class=\"dataframe\">\n",
       "  <thead>\n",
       "    <tr style=\"text-align: right;\">\n",
       "      <th></th>\n",
       "      <th>ID</th>\n",
       "      <th>Comment</th>\n",
       "      <th>react</th>\n",
       "    </tr>\n",
       "  </thead>\n",
       "  <tbody>\n",
       "    <tr>\n",
       "      <th>20</th>\n",
       "      <td>민이쪼꼬</td>\n",
       "      <td>손톱이 빠져나가고\\n내 귀와 코가 잘리고\\n내손과 다리가 부러져도\\n그 고통은 이길...</td>\n",
       "      <td>부정</td>\n",
       "    </tr>\n",
       "    <tr>\n",
       "      <th>26</th>\n",
       "      <td>김성민</td>\n",
       "      <td>장안동 시절 부터 팬이 였습니다 너무 속상하고 안타깝지만...  그 만큼 정말 많이...</td>\n",
       "      <td>부정</td>\n",
       "    </tr>\n",
       "    <tr>\n",
       "      <th>28</th>\n",
       "      <td>오하늘</td>\n",
       "      <td>와 어제까지만 해도 유튭 올린거 재밌게 봤는데 이게 뭔일이냐 많은 사람들이 정 떨어...</td>\n",
       "      <td>부정</td>\n",
       "    </tr>\n",
       "    <tr>\n",
       "      <th>33</th>\n",
       "      <td>하마쓰</td>\n",
       "      <td>하 진짜 팬인데.. 형 반성하라는 말밖에 못하겠다</td>\n",
       "      <td>부정</td>\n",
       "    </tr>\n",
       "    <tr>\n",
       "      <th>37</th>\n",
       "      <td>울트라</td>\n",
       "      <td>공장길만 걷자 메킴아</td>\n",
       "      <td>부정</td>\n",
       "    </tr>\n",
       "    <tr>\n",
       "      <th>...</th>\n",
       "      <td>...</td>\n",
       "      <td>...</td>\n",
       "      <td>...</td>\n",
       "    </tr>\n",
       "    <tr>\n",
       "      <th>2569</th>\n",
       "      <td>YoungBin</td>\n",
       "      <td>생각이라는걸 할 줄 모르나?? 어처구니가 없어서 할말을 잃게만드네;;; 진짜 수준 ...</td>\n",
       "      <td>부정</td>\n",
       "    </tr>\n",
       "    <tr>\n",
       "      <th>2570</th>\n",
       "      <td>명우김</td>\n",
       "      <td>배가불렀지?</td>\n",
       "      <td>부정</td>\n",
       "    </tr>\n",
       "    <tr>\n",
       "      <th>2571</th>\n",
       "      <td>신동준</td>\n",
       "      <td>대한민국에서 나가라 그냥</td>\n",
       "      <td>부정</td>\n",
       "    </tr>\n",
       "    <tr>\n",
       "      <th>2574</th>\n",
       "      <td>Jerry</td>\n",
       "      <td>누군데 왈왈하는거임? 짭bj 임? 풉</td>\n",
       "      <td>부정</td>\n",
       "    </tr>\n",
       "    <tr>\n",
       "      <th>2575</th>\n",
       "      <td>이진행</td>\n",
       "      <td>멀리안간다 잘가라..잘가라는무슨 ㄲㅈ</td>\n",
       "      <td>부정</td>\n",
       "    </tr>\n",
       "  </tbody>\n",
       "</table>\n",
       "<p>457 rows × 3 columns</p>\n",
       "</div>"
      ],
      "text/plain": [
       "              ID                                            Comment react\n",
       "20          민이쪼꼬  손톱이 빠져나가고\\n내 귀와 코가 잘리고\\n내손과 다리가 부러져도\\n그 고통은 이길...    부정\n",
       "26           김성민  장안동 시절 부터 팬이 였습니다 너무 속상하고 안타깝지만...  그 만큼 정말 많이...    부정\n",
       "28           오하늘  와 어제까지만 해도 유튭 올린거 재밌게 봤는데 이게 뭔일이냐 많은 사람들이 정 떨어...    부정\n",
       "33           하마쓰                        하 진짜 팬인데.. 형 반성하라는 말밖에 못하겠다    부정\n",
       "37           울트라                                        공장길만 걷자 메킴아    부정\n",
       "...          ...                                                ...   ...\n",
       "2569    YoungBin  생각이라는걸 할 줄 모르나?? 어처구니가 없어서 할말을 잃게만드네;;; 진짜 수준 ...    부정\n",
       "2570         명우김                                             배가불렀지?    부정\n",
       "2571         신동준                                      대한민국에서 나가라 그냥    부정\n",
       "2574       Jerry                               누군데 왈왈하는거임? 짭bj 임? 풉    부정\n",
       "2575         이진행                               멀리안간다 잘가라..잘가라는무슨 ㄲㅈ    부정\n",
       "\n",
       "[457 rows x 3 columns]"
      ]
     },
     "execution_count": 26,
     "metadata": {},
     "output_type": "execute_result"
    }
   ],
   "source": [
    "negative"
   ]
  },
  {
   "cell_type": "code",
   "execution_count": 27,
   "id": "c31ba804",
   "metadata": {},
   "outputs": [],
   "source": [
    "positive.to_excel('positive.xlsx')"
   ]
  },
  {
   "cell_type": "code",
   "execution_count": 28,
   "id": "554eb335",
   "metadata": {},
   "outputs": [],
   "source": [
    "negative.to_excel('negative.xlsx')"
   ]
  },
  {
   "cell_type": "code",
   "execution_count": 30,
   "id": "89d51c52",
   "metadata": {},
   "outputs": [
    {
     "data": {
      "text/html": [
       "<div>\n",
       "<style scoped>\n",
       "    .dataframe tbody tr th:only-of-type {\n",
       "        vertical-align: middle;\n",
       "    }\n",
       "\n",
       "    .dataframe tbody tr th {\n",
       "        vertical-align: top;\n",
       "    }\n",
       "\n",
       "    .dataframe thead th {\n",
       "        text-align: right;\n",
       "    }\n",
       "</style>\n",
       "<table border=\"1\" class=\"dataframe\">\n",
       "  <thead>\n",
       "    <tr style=\"text-align: right;\">\n",
       "      <th></th>\n",
       "      <th>Comment</th>\n",
       "    </tr>\n",
       "  </thead>\n",
       "  <tbody>\n",
       "    <tr>\n",
       "      <th>0</th>\n",
       "      <td>\"내 손과 다리가 부러져도 그 고통은 이길 수 있사오나, 나라를 잃어버린 그 고통만...</td>\n",
       "    </tr>\n",
       "    <tr>\n",
       "      <th>1</th>\n",
       "      <td>지금 팬분들이 해야할건돌아와, 기다릴게, 힘내이런 말이 아니라형은 분명히 잘못했고 ...</td>\n",
       "    </tr>\n",
       "    <tr>\n",
       "      <th>2</th>\n",
       "      <td>\"내 손톱이 빠져나가고 내 귀와 코가 잘리고 손과 다리가 부러져도그 고통은 이길 수...</td>\n",
       "    </tr>\n",
       "    <tr>\n",
       "      <th>3</th>\n",
       "      <td>식민지 역사를 가진 나라에서 그 따위 언행을 하고 대중 상대로 장사하는 BJ가 활동...</td>\n",
       "    </tr>\n",
       "    <tr>\n",
       "      <th>4</th>\n",
       "      <td>평소에 무슨 생각을 하시는지 알 수 있는 계기가 되었습니다. 사람은 바뀌지 않습니다.</td>\n",
       "    </tr>\n",
       "    <tr>\n",
       "      <th>...</th>\n",
       "      <td>...</td>\n",
       "    </tr>\n",
       "    <tr>\n",
       "      <th>2573</th>\n",
       "      <td>역겹습니다  유투브 자체를 없애주세요 제발 당신이야기 여기저기 나오는거 정말 역겹습니다</td>\n",
       "    </tr>\n",
       "    <tr>\n",
       "      <th>2576</th>\n",
       "      <td>이듣보는 누구냐 ㅋㅋㅋ</td>\n",
       "    </tr>\n",
       "    <tr>\n",
       "      <th>2577</th>\n",
       "      <td>니가 사람이냐</td>\n",
       "    </tr>\n",
       "    <tr>\n",
       "      <th>2578</th>\n",
       "      <td>끄지라</td>\n",
       "    </tr>\n",
       "    <tr>\n",
       "      <th>2579</th>\n",
       "      <td>이 듣보잡은 뭔데 또</td>\n",
       "    </tr>\n",
       "  </tbody>\n",
       "</table>\n",
       "<p>2123 rows × 1 columns</p>\n",
       "</div>"
      ],
      "text/plain": [
       "                                                Comment\n",
       "0     \"내 손과 다리가 부러져도 그 고통은 이길 수 있사오나, 나라를 잃어버린 그 고통만...\n",
       "1     지금 팬분들이 해야할건돌아와, 기다릴게, 힘내이런 말이 아니라형은 분명히 잘못했고 ...\n",
       "2     \"내 손톱이 빠져나가고 내 귀와 코가 잘리고 손과 다리가 부러져도그 고통은 이길 수...\n",
       "3     식민지 역사를 가진 나라에서 그 따위 언행을 하고 대중 상대로 장사하는 BJ가 활동...\n",
       "4       평소에 무슨 생각을 하시는지 알 수 있는 계기가 되었습니다. 사람은 바뀌지 않습니다.\n",
       "...                                                 ...\n",
       "2573   역겹습니다  유투브 자체를 없애주세요 제발 당신이야기 여기저기 나오는거 정말 역겹습니다\n",
       "2576                                       이듣보는 누구냐 ㅋㅋㅋ\n",
       "2577                                            니가 사람이냐\n",
       "2578                                                끄지라\n",
       "2579                                        이 듣보잡은 뭔데 또\n",
       "\n",
       "[2123 rows x 1 columns]"
      ]
     },
     "execution_count": 30,
     "metadata": {},
     "output_type": "execute_result"
    }
   ],
   "source": [
    "positive[['Comment']]"
   ]
  },
  {
   "cell_type": "code",
   "execution_count": 41,
   "id": "5bdbdb71",
   "metadata": {},
   "outputs": [],
   "source": [
    "positive[['Comment']].to_csv('comment.txt', index = False, header = False)"
   ]
  },
  {
   "cell_type": "code",
   "execution_count": null,
   "id": "2db444b4",
   "metadata": {},
   "outputs": [],
   "source": []
  }
 ],
 "metadata": {
  "kernelspec": {
   "display_name": "Python 3 (ipykernel)",
   "language": "python",
   "name": "python3"
  },
  "language_info": {
   "codemirror_mode": {
    "name": "ipython",
    "version": 3
   },
   "file_extension": ".py",
   "mimetype": "text/x-python",
   "name": "python",
   "nbconvert_exporter": "python",
   "pygments_lexer": "ipython3",
   "version": "3.8.13"
  }
 },
 "nbformat": 4,
 "nbformat_minor": 5
}
