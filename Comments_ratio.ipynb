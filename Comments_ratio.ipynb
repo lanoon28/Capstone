{
 "cells": [
  {
   "cell_type": "code",
   "execution_count": 1,
   "id": "ea9aa42b",
   "metadata": {},
   "outputs": [],
   "source": [
    "# Comments ratio\n",
    "# bad comments = 0 / good comments = 1"
   ]
  },
  {
   "cell_type": "code",
   "execution_count": 2,
   "id": "0701671e",
   "metadata": {},
   "outputs": [],
   "source": [
    "import pandas as pd\n",
    "import numpy as np\n",
    "import matplotlib.pyplot as plt"
   ]
  },
  {
   "cell_type": "code",
   "execution_count": 3,
   "id": "85df2263",
   "metadata": {},
   "outputs": [],
   "source": [
    "data = pd.read_excel('total.xlsx', index_col = 0)"
   ]
  },
  {
   "cell_type": "code",
   "execution_count": 4,
   "id": "86d4c441",
   "metadata": {
    "scrolled": false
   },
   "outputs": [
    {
     "data": {
      "text/html": [
       "<div>\n",
       "<style scoped>\n",
       "    .dataframe tbody tr th:only-of-type {\n",
       "        vertical-align: middle;\n",
       "    }\n",
       "\n",
       "    .dataframe tbody tr th {\n",
       "        vertical-align: top;\n",
       "    }\n",
       "\n",
       "    .dataframe thead th {\n",
       "        text-align: right;\n",
       "    }\n",
       "</style>\n",
       "<table border=\"1\" class=\"dataframe\">\n",
       "  <thead>\n",
       "    <tr style=\"text-align: right;\">\n",
       "      <th></th>\n",
       "      <th>ID</th>\n",
       "      <th>Comment</th>\n",
       "      <th>react</th>\n",
       "    </tr>\n",
       "  </thead>\n",
       "  <tbody>\n",
       "    <tr>\n",
       "      <th>0</th>\n",
       "      <td>삼성</td>\n",
       "      <td>\"내 손과 다리가 부러져도 그 고통은 이길 수 있사오나, 나라를 잃어버린 그 고통만...</td>\n",
       "      <td>긍정</td>\n",
       "    </tr>\n",
       "    <tr>\n",
       "      <th>1</th>\n",
       "      <td>ksns ssj</td>\n",
       "      <td>지금 팬분들이 해야할건돌아와, 기다릴게, 힘내이런 말이 아니라형은 분명히 잘못했고 ...</td>\n",
       "      <td>긍정</td>\n",
       "    </tr>\n",
       "    <tr>\n",
       "      <th>2</th>\n",
       "      <td>도웨이</td>\n",
       "      <td>\"내 손톱이 빠져나가고 내 귀와 코가 잘리고 손과 다리가 부러져도그 고통은 이길 수...</td>\n",
       "      <td>긍정</td>\n",
       "    </tr>\n",
       "    <tr>\n",
       "      <th>3</th>\n",
       "      <td>뿌슝빠슝</td>\n",
       "      <td>식민지 역사를 가진 나라에서 그 따위 언행을 하고 대중 상대로 장사하는 BJ가 활동...</td>\n",
       "      <td>긍정</td>\n",
       "    </tr>\n",
       "    <tr>\n",
       "      <th>4</th>\n",
       "      <td>L IM</td>\n",
       "      <td>평소에 무슨 생각을 하시는지 알 수 있는 계기가 되었습니다. 사람은 바뀌지 않습니다.</td>\n",
       "      <td>긍정</td>\n",
       "    </tr>\n",
       "    <tr>\n",
       "      <th>...</th>\n",
       "      <td>...</td>\n",
       "      <td>...</td>\n",
       "      <td>...</td>\n",
       "    </tr>\n",
       "    <tr>\n",
       "      <th>2575</th>\n",
       "      <td>이진행</td>\n",
       "      <td>멀리안간다 잘가라..잘가라는무슨 ㄲㅈ</td>\n",
       "      <td>부정</td>\n",
       "    </tr>\n",
       "    <tr>\n",
       "      <th>2576</th>\n",
       "      <td>ty k</td>\n",
       "      <td>이듣보는 누구냐 ㅋㅋㅋ</td>\n",
       "      <td>긍정</td>\n",
       "    </tr>\n",
       "    <tr>\n",
       "      <th>2577</th>\n",
       "      <td>류다</td>\n",
       "      <td>니가 사람이냐</td>\n",
       "      <td>긍정</td>\n",
       "    </tr>\n",
       "    <tr>\n",
       "      <th>2578</th>\n",
       "      <td>S ong</td>\n",
       "      <td>끄지라</td>\n",
       "      <td>긍정</td>\n",
       "    </tr>\n",
       "    <tr>\n",
       "      <th>2579</th>\n",
       "      <td>셔먼</td>\n",
       "      <td>이 듣보잡은 뭔데 또</td>\n",
       "      <td>긍정</td>\n",
       "    </tr>\n",
       "  </tbody>\n",
       "</table>\n",
       "<p>2580 rows × 3 columns</p>\n",
       "</div>"
      ],
      "text/plain": [
       "              ID                                            Comment react\n",
       "0             삼성  \"내 손과 다리가 부러져도 그 고통은 이길 수 있사오나, 나라를 잃어버린 그 고통만...    긍정\n",
       "1       ksns ssj  지금 팬분들이 해야할건돌아와, 기다릴게, 힘내이런 말이 아니라형은 분명히 잘못했고 ...    긍정\n",
       "2            도웨이  \"내 손톱이 빠져나가고 내 귀와 코가 잘리고 손과 다리가 부러져도그 고통은 이길 수...    긍정\n",
       "3           뿌슝빠슝  식민지 역사를 가진 나라에서 그 따위 언행을 하고 대중 상대로 장사하는 BJ가 활동...    긍정\n",
       "4           L IM    평소에 무슨 생각을 하시는지 알 수 있는 계기가 되었습니다. 사람은 바뀌지 않습니다.    긍정\n",
       "...          ...                                                ...   ...\n",
       "2575         이진행                               멀리안간다 잘가라..잘가라는무슨 ㄲㅈ    부정\n",
       "2576        ty k                                       이듣보는 누구냐 ㅋㅋㅋ    긍정\n",
       "2577          류다                                            니가 사람이냐    긍정\n",
       "2578       S ong                                                끄지라    긍정\n",
       "2579          셔먼                                        이 듣보잡은 뭔데 또    긍정\n",
       "\n",
       "[2580 rows x 3 columns]"
      ]
     },
     "execution_count": 4,
     "metadata": {},
     "output_type": "execute_result"
    }
   ],
   "source": [
    "data"
   ]
  },
  {
   "cell_type": "code",
   "execution_count": 5,
   "id": "7d215995",
   "metadata": {},
   "outputs": [
    {
     "name": "stdout",
     "output_type": "stream",
     "text": [
      "data :  2580\n"
     ]
    }
   ],
   "source": [
    "# 결측치 드랍\n",
    "data = data.dropna(axis = 0)\n",
    "\n",
    "print('data : ', len(data))"
   ]
  },
  {
   "cell_type": "code",
   "execution_count": 6,
   "id": "519b86ff",
   "metadata": {},
   "outputs": [
    {
     "data": {
      "text/plain": [
       "긍정    2123\n",
       "부정     457\n",
       "Name: react, dtype: int64"
      ]
     },
     "execution_count": 6,
     "metadata": {},
     "output_type": "execute_result"
    }
   ],
   "source": [
    "data['react'].value_counts()"
   ]
  },
  {
   "cell_type": "code",
   "execution_count": 10,
   "id": "4dc7b448",
   "metadata": {},
   "outputs": [
    {
     "data": {
      "text/plain": [
       "457"
      ]
     },
     "execution_count": 10,
     "metadata": {},
     "output_type": "execute_result"
    }
   ],
   "source": [
    "good = data[data['react'] == '긍정']\n",
    "good_len = len(good)\n",
    "#good_len\n",
    "\n",
    "bad = data[data['react'] == '부정']\n",
    "bad_len = len(bad)\n",
    "bad_len"
   ]
  },
  {
   "cell_type": "code",
   "execution_count": 11,
   "id": "30bbc240",
   "metadata": {},
   "outputs": [],
   "source": [
    "react = ['good', 'bad']\n",
    "frequency = [bad_len, good_len]\n",
    "colors = ['blue', 'red']"
   ]
  },
  {
   "cell_type": "code",
   "execution_count": 15,
   "id": "a981ab62",
   "metadata": {
    "scrolled": false
   },
   "outputs": [
    {
     "data": {
      "image/png": "[encoded data removed]",
      "text/plain": [
       "<Figure size 360x504 with 1 Axes>"
      ]
     },
     "metadata": {
      "needs_background": "light"
     },
     "output_type": "display_data"
    }
   ],
   "source": [
    "plt.figure(figsize = (5, 7))\n",
    "plt.bar(react, frequency, color = colors)\n",
    "plt.title(\"Comments Ratio\")\n",
    "\n",
    "plt.ylim(0, 2500)\n",
    "plt.show()"
   ]
  }
 ],
 "metadata": {
  "kernelspec": {
   "display_name": "Python 3 (ipykernel)",
   "language": "python",
   "name": "python3"
  },
  "language_info": {
   "codemirror_mode": {
    "name": "ipython",
    "version": 3
   },
   "file_extension": ".py",
   "mimetype": "text/x-python",
   "name": "python",
   "nbconvert_exporter": "python",
   "pygments_lexer": "ipython3",
   "version": "3.8.13"
  }
 },
 "nbformat": 4,
 "nbformat_minor": 5
}
